{
 "cells": [
  {
   "cell_type": "code",
   "execution_count": null,
   "id": "691a6a10-eb57-4076-9fde-8012048fa203",
   "metadata": {},
   "outputs": [],
   "source": [
    "#4.1\n",
    "secret = int(input(\"Enter a number between 1 and 10:\"))\n",
    "guess = int(input(\"Enter your guess between 1 and 10:\"))\n",
    "\n",
    "if guess < secret\n",
    "    print(\"Too Low\")\n",
    "elif guess > secret\n",
    "    print(\"Too High\")\n",
    "else\n",
    "    print(\"Just right\""
   ]
  },
  {
   "cell_type": "code",
   "execution_count": null,
   "id": "20e371a8-a4f5-4bec-86f2-3b6b3c7ec102",
   "metadata": {},
   "outputs": [],
   "source": [
    "#4.2\n",
    "small = True\n",
    "green = False\n",
    "\n",
    "if small and green\n",
    "    print(\"It's a pea\")\n",
    "elif small and not green\n",
    "    print(\"It's a cherry\")\n",
    "elif not small and green\n",
    "    print(\"It's a watermelon\")\n",
    "else if not small and not green\n",
    "    print(\"Its a pumpkin\")\n"
   ]
  },
  {
   "cell_type": "code",
   "execution_count": null,
   "id": "4a81504f-d063-4299-852f-af9a532e9c43",
   "metadata": {},
   "outputs": [],
   "source": [
    "#6.1\n",
    "mylist = [3, 2, 1, 0]\n",
    "for value in mylist\n",
    "    print(value)"
   ]
  },
  {
   "cell_type": "code",
   "execution_count": null,
   "id": "c47884e1-b085-46f4-91b4-4b81bbd81e6e",
   "metadata": {},
   "outputs": [],
   "source": [
    "#6.2\n",
    "guess_me = 7\n",
    "number = 1\n",
    "\n",
    "while number != guess_me:\n",
    "    if number < guess_me:\n",
    "        print('too low')\n",
    "    elif number == guess_me:\n",
    "        print('found it!')\n",
    "        break\n",
    "    else:\n",
    "        print('oops')\n",
    "        break\n",
    "    number += 1"
   ]
  },
  {
   "cell_type": "code",
   "execution_count": null,
   "id": "d72ee178-4f33-44b0-9c06-6980492d6b5b",
   "metadata": {},
   "outputs": [],
   "source": [
    "#6.3\n",
    "guess_me = 5\n",
    "\n",
    "for number in range(10):\n",
    "    if number < guess_me:\n",
    "        print('too low')\n",
    "    elif number == guess_me:\n",
    "        print('found it!')\n",
    "        break\n",
    "    else:\n",
    "        print('oops')\n",
    "        break"
   ]
  }
 ],
 "metadata": {
  "kernelspec": {
   "display_name": "Python 3 (ipykernel)",
   "language": "python",
   "name": "python3"
  },
  "language_info": {
   "codemirror_mode": {
    "name": "ipython",
    "version": 3
   },
   "file_extension": ".py",
   "mimetype": "text/x-python",
   "name": "python",
   "nbconvert_exporter": "python",
   "pygments_lexer": "ipython3",
   "version": "3.11.7"
  }
 },
 "nbformat": 4,
 "nbformat_minor": 5
}
